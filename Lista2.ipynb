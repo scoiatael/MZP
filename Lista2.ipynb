{
 "cells": [
  {
   "cell_type": "code",
   "execution_count": 2,
   "metadata": {
    "collapsed": true
   },
   "outputs": [],
   "source": [
    "import numpy as np\n",
    "import sympy as sp\n",
    "from IPython.display import *\n",
    "import matplotlib.pyplot as plt\n",
    "%matplotlib inline \n",
    "sp.init_printing(use_latex=True)"
   ]
  },
  {
   "cell_type": "code",
   "execution_count": 5,
   "metadata": {
    "collapsed": false
   },
   "outputs": [
    {
     "data": {
      "image/png": "[encoded data removed]",
      "text/latex": [
       "$$\\log{\\left (\\log{\\left (y \\right )} \\right )}$$"
      ],
      "text/plain": [
       "log(log(y))"
      ]
     },
     "execution_count": 5,
     "metadata": {},
     "output_type": "execute_result"
    }
   ],
   "source": [
    "y = sp.var('y')\n",
    "sp.integrate(1 / (y * sp.log(y)))"
   ]
  },
  {
   "cell_type": "code",
   "execution_count": 7,
   "metadata": {
    "collapsed": false
   },
   "outputs": [
    {
     "data": {
      "image/png": "[encoded data removed]",
      "text/latex": [
       "$$\\frac{1}{2} \\log{\\left (\\cos^{2}{\\left (y \\right )} - 1 \\right )}$$"
      ],
      "text/plain": [
       "   ⎛   2       ⎞\n",
       "log⎝cos (y) - 1⎠\n",
       "────────────────\n",
       "       2        "
      ]
     },
     "execution_count": 7,
     "metadata": {},
     "output_type": "execute_result"
    }
   ],
   "source": [
    "sp.integrate(sp.cot(y))"
   ]
  },
  {
   "cell_type": "code",
   "execution_count": 10,
   "metadata": {
    "collapsed": false
   },
   "outputs": [
    {
     "data": {
      "image/png": "[encoded data removed]",
      "text/latex": [
       "$$c{\\left (y \\right )} = \\frac{C_{1}}{y^{3}}$$"
      ],
      "text/plain": [
       "       C₁\n",
       "c(y) = ──\n",
       "        3\n",
       "       y "
      ]
     },
     "execution_count": 10,
     "metadata": {},
     "output_type": "execute_result"
    }
   ],
   "source": [
    "c = sp.Function('c')(y)\n",
    "sp.dsolve(sp.Eq(c.diff(y)/c, -3/y), c)"
   ]
  },
  {
   "cell_type": "code",
   "execution_count": 11,
   "metadata": {
    "collapsed": false
   },
   "outputs": [
    {
     "data": {
      "image/png": "[encoded data removed]",
      "text/latex": [
       "$$- \\frac{1}{2} \\log{\\left (y - 1 \\right )} + \\frac{1}{2} \\log{\\left (y + 1 \\right )}$$"
      ],
      "text/plain": [
       "  log(y - 1)   log(y + 1)\n",
       "- ────────── + ──────────\n",
       "      2            2     "
      ]
     },
     "execution_count": 11,
     "metadata": {},
     "output_type": "execute_result"
    }
   ],
   "source": [
    "sp.integrate(1/(1-y**2))"
   ]
  },
  {
   "cell_type": "code",
   "execution_count": 12,
   "metadata": {
    "collapsed": false
   },
   "outputs": [
    {
     "data": {
      "image/png": "[encoded data removed]",
      "text/latex": [
       "$$c{\\left (y \\right )} = - \\frac{e^{2 C_{1} - 2 y} + 1}{e^{2 C_{1} - 2 y} - 1}$$"
      ],
      "text/plain": [
       "        ⎛ 2⋅C₁ - 2⋅y    ⎞ \n",
       "       -⎝ℯ           + 1⎠ \n",
       "c(y) = ───────────────────\n",
       "          2⋅C₁ - 2⋅y      \n",
       "         ℯ           - 1  "
      ]
     },
     "execution_count": 12,
     "metadata": {},
     "output_type": "execute_result"
    }
   ],
   "source": [
    "sp.dsolve(sp.Eq(c.diff(y), 1 - c**2))"
   ]
  },
  {
   "cell_type": "code",
   "execution_count": 13,
   "metadata": {
    "collapsed": false
   },
   "outputs": [
    {
     "data": {
      "image/png": "[encoded data removed]",
      "text/latex": [
       "$$\\frac{y^{2}}{2} \\log{\\left (y \\right )} - \\frac{y^{2}}{4}$$"
      ],
      "text/plain": [
       " 2           2\n",
       "y ⋅log(y)   y \n",
       "───────── - ──\n",
       "    2       4 "
      ]
     },
     "execution_count": 13,
     "metadata": {},
     "output_type": "execute_result"
    }
   ],
   "source": [
    "sp.integrate(y*sp.log(y))"
   ]
  },
  {
   "cell_type": "code",
   "execution_count": 15,
   "metadata": {
    "collapsed": false
   },
   "outputs": [
    {
     "data": {
      "image/png": "[encoded data removed]",
      "text/latex": [
       "$$c{\\left (y \\right )} = C_{1} e^{a y}$$"
      ],
      "text/plain": [
       "           a⋅y\n",
       "c(y) = C₁⋅ℯ   "
      ]
     },
     "execution_count": 15,
     "metadata": {},
     "output_type": "execute_result"
    }
   ],
   "source": [
    "a = sp.symbols('a')\n",
    "sp.dsolve(sp.Eq(c.diff(y), a*c), c)"
   ]
  },
  {
   "cell_type": "code",
   "execution_count": 65,
   "metadata": {
    "collapsed": false
   },
   "outputs": [
    {
     "data": {
      "image/png": "[encoded data removed]",
      "text/latex": [
       "$$c{\\left (y \\right )} = \\frac{C_{1}}{y} + \\frac{y^{2}}{3}$$"
      ],
      "text/plain": [
       "             2\n",
       "       C₁   y \n",
       "c(y) = ── + ──\n",
       "       y    3 "
      ]
     },
     "execution_count": 65,
     "metadata": {},
     "output_type": "execute_result"
    }
   ],
   "source": [
    "sp.dsolve(sp.Eq(c.diff(y) + c/y, y), c)"
   ]
  },
  {
   "cell_type": "code",
   "execution_count": 66,
   "metadata": {
    "collapsed": false,
    "scrolled": true
   },
   "outputs": [
    {
     "data": {
      "image/png": "[encoded data removed]",
      "text/latex": [
       "$$\\frac{d}{d y} c{\\left (y \\right )} = \\frac{2}{y c^{2}{\\left (y \\right )}}$$"
      ],
      "text/plain": [
       "d             2   \n",
       "──(c(y)) = ───────\n",
       "dy            2   \n",
       "           y⋅c (y)"
      ]
     },
     "metadata": {},
     "output_type": "display_data"
    },
    {
     "data": {
      "image/png": "[encoded data removed]",
      "text/latex": [
       "$$\\left [ c{\\left (y \\right )} = \\sqrt[3]{C_{1} + 6 \\log{\\left (y \\right )}}, \\quad c{\\left (y \\right )} = \\frac{1}{2} \\left(- \\sqrt[3]{3} - 3^{\\frac{5}{6}} i\\right) \\sqrt[3]{C_{1} + 2 \\log{\\left (y \\right )}}, \\quad c{\\left (y \\right )} = \\frac{1}{2} \\left(- \\sqrt[3]{3} + 3^{\\frac{5}{6}} i\\right) \\sqrt[3]{C_{1} + 2 \\log{\\left (y \\right )}}\\right ]$$"
      ],
      "text/plain": [
       "⎡                                 ⎛  3 ___    5/6  ⎞ 3 _______________        \n",
       "⎢       3 _______________         ⎝- ╲╱ 3  - 3   ⋅ⅈ⎠⋅╲╱ C₁ + 2⋅log(y)         \n",
       "⎢c(y) = ╲╱ C₁ + 6⋅log(y) , c(y) = ────────────────────────────────────, c(y) =\n",
       "⎣                                                  2                          \n",
       "\n",
       " ⎛  3 ___    5/6  ⎞ 3 _______________⎤\n",
       " ⎝- ╲╱ 3  + 3   ⋅ⅈ⎠⋅╲╱ C₁ + 2⋅log(y) ⎥\n",
       " ────────────────────────────────────⎥\n",
       "                  2                  ⎦"
      ]
     },
     "execution_count": 66,
     "metadata": {},
     "output_type": "execute_result"
    }
   ],
   "source": [
    "display(sp.Eq(c.diff(y), 2 / (y * c**2)))\n",
    "sp.dsolve(sp.Eq(c.diff(y), 2 / (y * c**2)), c)"
   ]
  },
  {
   "cell_type": "code",
   "execution_count": 50,
   "metadata": {
    "collapsed": true
   },
   "outputs": [],
   "source": [
    "def euler(Xs, start_x, start_y, h = 0.001):\n",
    "    cur = start_y\n",
    "    last = start_x\n",
    "    res = []\n",
    "    for x in Xs:\n",
    "        n = (x - last)/h\n",
    "        last = x\n",
    "        for i in range(int(n)):\n",
    "            cur = cur + h*f(x+i*h, cur)\n",
    "        res += [cur]\n",
    "    return res"
   ]
  },
  {
   "cell_type": "code",
   "execution_count": 60,
   "metadata": {
    "collapsed": false
   },
   "outputs": [
    {
     "data": {
      "text/plain": [
       "[<matplotlib.lines.Line2D at 0x7fc6a29bda58>]"
      ]
     },
     "execution_count": 60,
     "metadata": {},
     "output_type": "execute_result"
    },
    {
     "data": {
      "image/png": "[encoded data removed]",
      "text/plain": [
       "<matplotlib.figure.Figure at 0x7fc6a30987b8>"
      ]
     },
     "metadata": {},
     "output_type": "display_data"
    }
   ],
   "source": [
    "a = 2.0\n",
    "h = 0.001\n",
    "f = lambda x,y: a*y\n",
    "exact = lambda x: np.exp(a * x)\n",
    "\n",
    "Xs = np.linspace(0., 2.)\n",
    "exXs = exact(Xs)\n",
    "plt.plot(Xs, exXs)\n",
    "euXs = euler(Xs, 0, 1)\n",
    "plt.plot(Xs, euXs)"
   ]
  },
  {
   "cell_type": "code",
   "execution_count": 52,
   "metadata": {
    "collapsed": false
   },
   "outputs": [
    {
     "data": {
      "image/png": "[encoded data removed]",
      "text/latex": [
       "$$0.0804903877019$$"
      ],
      "text/plain": [
       "0.0804903877019"
      ]
     },
     "execution_count": 52,
     "metadata": {},
     "output_type": "execute_result"
    }
   ],
   "source": [
    "abs(euXs[-1]- exXs[-1]) / exXs[-1]"
   ]
  },
  {
   "cell_type": "code",
   "execution_count": 53,
   "metadata": {
    "collapsed": false
   },
   "outputs": [
    {
     "data": {
      "image/png": "[encoded data removed]",
      "text/latex": [
       "$$0.00171108098319$$"
      ],
      "text/plain": [
       "0.00171108098319"
      ]
     },
     "execution_count": 53,
     "metadata": {},
     "output_type": "execute_result"
    }
   ],
   "source": [
    "i = 1\n",
    "abs(euXs[i] - exXs[i]) / exXs[i]"
   ]
  },
  {
   "cell_type": "code",
   "execution_count": 62,
   "metadata": {
    "collapsed": false
   },
   "outputs": [
    {
     "data": {
      "text/plain": [
       "[<matplotlib.lines.Line2D at 0x7fc6a288fac8>]"
      ]
     },
     "execution_count": 62,
     "metadata": {},
     "output_type": "execute_result"
    },
    {
     "data": {
      "image/png": "[encoded data removed]",
      "text/plain": [
       "<matplotlib.figure.Figure at 0x7fc6a2972f60>"
      ]
     },
     "metadata": {},
     "output_type": "display_data"
    }
   ],
   "source": [
    "f = lambda x,y: x - y/x\n",
    "exact = lambda x: (x**3 - 2)/(3*x)\n",
    "\n",
    "Xs = np.linspace(-1., -0.1)\n",
    "exXs = exact(Xs)\n",
    "plt.plot(Xs, exXs)\n",
    "euXs = euler(Xs, -1, 1)\n",
    "plt.plot(Xs, euXs)"
   ]
  },
  {
   "cell_type": "code",
   "execution_count": 74,
   "metadata": {
    "collapsed": false
   },
   "outputs": [
    {
     "data": {
      "text/plain": [
       "[<matplotlib.lines.Line2D at 0x7fc6a2632400>]"
      ]
     },
     "execution_count": 74,
     "metadata": {},
     "output_type": "execute_result"
    },
    {
     "data": {
      "image/png": "[encoded data removed]",
      "text/plain": [
       "<matplotlib.figure.Figure at 0x7fc6a2632080>"
      ]
     },
     "metadata": {},
     "output_type": "display_data"
    }
   ],
   "source": [
    "f = lambda x,y: 2 / (x * y**2)\n",
    "exact = lambda x: np.power(6*np.log(x) + 8, 1/3)\n",
    "\n",
    "Xs = np.linspace(1., 2)\n",
    "exXs = exact(Xs)\n",
    "plt.plot(Xs, exXs)\n",
    "euXs = euler(Xs, 1, 2)\n",
    "plt.plot(Xs, euXs)"
   ]
  },
  {
   "cell_type": "code",
   "execution_count": null,
   "metadata": {
    "collapsed": true
   },
   "outputs": [],
   "source": []
  }
 ],
 "metadata": {
  "kernelspec": {
   "display_name": "Python 3",
   "language": "python",
   "name": "python3"
  },
  "language_info": {
   "codemirror_mode": {
    "name": "ipython",
    "version": 3
   },
   "file_extension": ".py",
   "mimetype": "text/x-python",
   "name": "python",
   "nbconvert_exporter": "python",
   "pygments_lexer": "ipython3",
   "version": "3.5.1"
  }
 },
 "nbformat": 4,
 "nbformat_minor": 0
}
