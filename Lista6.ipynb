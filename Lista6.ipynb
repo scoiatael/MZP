{
 "cells": [
  {
   "cell_type": "code",
   "execution_count": 1,
   "metadata": {
    "collapsed": false,
    "scrolled": true
   },
   "outputs": [
    {
     "name": "stdout",
     "output_type": "stream",
     "text": [
      "Populating the interactive namespace from numpy and matplotlib\n"
     ]
    }
   ],
   "source": [
    "import numpy as np\n",
    "from IPython.display import *\n",
    "%pylab inline\n",
    "import matplotlib.pyplot as plt\n",
    "import time"
   ]
  },
  {
   "cell_type": "code",
   "execution_count": 58,
   "metadata": {
    "collapsed": true
   },
   "outputs": [],
   "source": [
    "E_rel = 1e-2\n",
    "E_abs = 1e-2"
   ]
  },
  {
   "cell_type": "code",
   "execution_count": 59,
   "metadata": {
    "collapsed": true
   },
   "outputs": [],
   "source": [
    "def eps(y_n, y_n1, h):\n",
    "    return E_abs + E_rel*(y_n + y_n1)/2."
   ]
  },
  {
   "cell_type": "code",
   "execution_count": 60,
   "metadata": {
    "collapsed": true
   },
   "outputs": [],
   "source": [
    "def err(y_n, y_n1, yd_n1, h):\n",
    "    d = y_n.size\n",
    "    v = (y_n1 - yd_n1)/eps(y_n, y_n1, h)\n",
    "    return np.sqrt((v*v).sum() / d)"
   ]
  },
  {
   "cell_type": "code",
   "execution_count": 61,
   "metadata": {
    "collapsed": true
   },
   "outputs": [],
   "source": [
    "factor_min = 1e-2\n",
    "factor_max = 1e1\n",
    "factor = 0.9\n",
    "h_min = 1e-6"
   ]
  },
  {
   "cell_type": "code",
   "execution_count": 80,
   "metadata": {
    "collapsed": true
   },
   "outputs": [],
   "source": [
    "def h_opt(q, err_h, h):\n",
    "    return max(h_min,\n",
    "               h*min(factor_max,\n",
    "                     max(factor_min,\n",
    "                         factor*np.power(1./err_h, 1./(q+1)))))"
   ]
  },
  {
   "cell_type": "code",
   "execution_count": 81,
   "metadata": {
    "collapsed": true
   },
   "outputs": [],
   "source": [
    "def norm(y0, y):\n",
    "    eps_0 = E_abs + np.abs(y0)*E_rel\n",
    "    v = y/eps_0\n",
    "    d = y.size\n",
    "    return np.sqrt((v*v).sum()/d)"
   ]
  },
  {
   "cell_type": "code",
   "execution_count": 82,
   "metadata": {
    "collapsed": true
   },
   "outputs": [],
   "source": [
    "def starting_h(p, f, x0, y0):\n",
    "    d0 = norm(y0, y0)\n",
    "    d1 = norm(x0, y0)\n",
    "    h0 = 0.01 * d0/d1\n",
    "    v0 = f(x0, y0)\n",
    "    y1 = y0 + h0*v0\n",
    "    v1 = f(x0+h0, y1)\n",
    "    d2 = norm(y0, v1 - v0) / h0\n",
    "    d_max = max(d1,d2)\n",
    "    h1 = np.power(0.01/d_max, 1/(p+1))\n",
    "    if d_max < 1e-15:\n",
    "        h1 = max(1e-6, h0 * 1e-3)\n",
    "    return min(100*h0, h1)"
   ]
  },
  {
   "cell_type": "code",
   "execution_count": 91,
   "metadata": {
    "collapsed": true
   },
   "outputs": [],
   "source": [
    "class ArrayMethod:\n",
    "    def __init__(self, Arr_Y, Arr_X, p):\n",
    "        width = len(Arr_X[-1])\n",
    "        self.Arr_X = np.array([x + [0] * (width - len(x)) for x in Arr_X], \n",
    "                              dtype=float)\n",
    "        self.Arr_Y = np.array(Arr_Y, dtype=float)\n",
    "        self.p = p\n",
    "        \n",
    "    def method(self, g, G0, X0, XF, max_iter = 1e6):\n",
    "        h = starting_h(self.p, g, X0, G0)\n",
    "        Ys = [G0]\n",
    "        Xs = [X0]\n",
    "        while Xs[-1] < XF and max_iter > 0:\n",
    "            max_iter -= 1\n",
    "            if max_iter % 1e4 == 0:\n",
    "                print('.', end=\"\",flush=True)\n",
    "            K = np.zeros(self.Arr_X[-1].shape + (2,))\n",
    "            K[0] = h*g(Xs[-1], Ys[-1])\n",
    "            for ind in range(len(self.Arr_Y)):\n",
    "                h_param = self.Arr_Y[ind]\n",
    "                y_params = self.Arr_X[ind]\n",
    "                y = (K.T * y_params).sum(1) + Ys[-1]\n",
    "                k = h*g(Xs[-1] + h*h_param, y)\n",
    "                K[ind+1] = k\n",
    "            Ys.append(Ys[-1] + \\\n",
    "                (self.Arr_X[-2] * K.T).sum(1))\n",
    "            yd = Ys[-1] + \\\n",
    "                (self.Arr_X[-1] * K.T).sum(1)\n",
    "            e = err(Ys[-2], Ys[-1], yd, h)\n",
    "            h = h_opt(self.p, e, h)\n",
    "            Xs.append(Xs[-1] + h)\n",
    "        print('|')\n",
    "        return [Xs, array(Ys).T]"
   ]
  },
  {
   "cell_type": "code",
   "execution_count": 92,
   "metadata": {
    "collapsed": true
   },
   "outputs": [],
   "source": [
    "MERSON_Y = [1/3., 1/3., 1/2., 1.]\n",
    "MERSON_X = [\n",
    "    [1/3.],\n",
    "    [1/6., 1/6.],\n",
    "    [1/8, 0., 3/8.],\n",
    "    [1/2., 0., -3/2., 2.],\n",
    "    [1/6., 0., 0., 2/3., 1/6.],\n",
    "    [1/10., 0., 3/10., 2/5., 1/5.]\n",
    "]"
   ]
  },
  {
   "cell_type": "code",
   "execution_count": 93,
   "metadata": {
    "collapsed": true
   },
   "outputs": [],
   "source": [
    "R38_Y = [1/3., 2/3., 1]\n",
    "R38_X = [\n",
    "    [1/3.],\n",
    "    [-1/3., 1.],\n",
    "    [1., -1., 1.],\n",
    "    [1/8., 3/8., 3/8., 1/8.],\n",
    "    [1/12., 1/2., 1/4., 0., 1/6.]\n",
    "]"
   ]
  },
  {
   "cell_type": "code",
   "execution_count": 106,
   "metadata": {
    "collapsed": true
   },
   "outputs": [],
   "source": [
    "VERNER_Y = [1/6., 4/15., 2/3., 5/6., 1., 1/15., 1.]\n",
    "VERNER_X = [\n",
    "    [1/6.],\n",
    "    [4/75., 16/75.],\n",
    "    [5/6., -8/3., 5/2.],\n",
    "    [-165/64., 55/6., -425/64., 85/96.],\n",
    "    [12/5., -8., 4015/612., -11/36., 88/255.],\n",
    "    [-8263/15000., 124/75., -643/680., -81/250., 2484/10625., 0],\n",
    "    [3501/1720., -300/43., 297275/52632., -319/2322., 24068/84065., 0., 3850/26703.],\n",
    "    [3/40., 0., 875/2244., 23/72., 264/1955., 0., 125/11792., 43/616.],\n",
    "    [13/160., 0., 2375/5984., 5/16., 12/85., 3/44., 0., 0.]\n",
    "]"
   ]
  },
  {
   "cell_type": "code",
   "execution_count": 94,
   "metadata": {
    "collapsed": true
   },
   "outputs": [],
   "source": [
    "X0 = 0\n",
    "F0 = array([1, 0])\n",
    "XF = 10\n",
    "\n",
    "g = 10.\n",
    "l = 5.\n",
    "\n",
    "def f(t, Ys):\n",
    "    y, v = Ys\n",
    "    return np.array([-v*g/l, y])\n",
    "\n",
    "def F(y, F0 = F0):\n",
    "    return F0[0]*np.cos(y*np.power(g/l, 1/2))"
   ]
  },
  {
   "cell_type": "code",
   "execution_count": 149,
   "metadata": {
    "collapsed": true
   },
   "outputs": [],
   "source": [
    "def plot_results_for(method):\n",
    "    x, ys = method(f, F0, X0, XF)\n",
    "    y = ys[1]\n",
    "    TS = F(x)\n",
    "    err = np.log10(np.absolute(np.powerx(y - TS, 2)/TS))\n",
    "    _, plots = plt.subplots(2, sharex=True)\n",
    "    p1, p2 = plots\n",
    "    p1.plot(x, err)\n",
    "    h = np.log10(array(x[1:]) - x[:-1])\n",
    "    p2.plot(x[1:], h)\n",
    "    return x, y"
   ]
  },
  {
   "cell_type": "code",
   "execution_count": 150,
   "metadata": {
    "collapsed": false
   },
   "outputs": [
    {
     "name": "stdout",
     "output_type": "stream",
     "text": [
      "|\n"
     ]
    },
    {
     "name": "stderr",
     "output_type": "stream",
     "text": [
      "/usr/lib/python3.5/site-packages/ipykernel/__main__.py:13: VisibleDeprecationWarning: using a non-integer number instead of an integer will result in an error in the future\n"
     ]
    },
    {
     "data": {
      "image/png": "[encoded data removed]",
      "text/plain": [
       "<matplotlib.figure.Figure at 0x7f8c3088edd8>"
      ]
     },
     "metadata": {},
     "output_type": "display_data"
    }
   ],
   "source": [
    "plot_results_for(ArrayMethod(R38_Y, R38_X, 3).method);"
   ]
  },
  {
   "cell_type": "code",
   "execution_count": 151,
   "metadata": {
    "collapsed": false
   },
   "outputs": [
    {
     "name": "stdout",
     "output_type": "stream",
     "text": [
      "|\n"
     ]
    },
    {
     "name": "stderr",
     "output_type": "stream",
     "text": [
      "/usr/lib/python3.5/site-packages/ipykernel/__main__.py:13: VisibleDeprecationWarning: using a non-integer number instead of an integer will result in an error in the future\n"
     ]
    },
    {
     "data": {
      "image/png": "[encoded data removed]",
      "text/plain": [
       "<matplotlib.figure.Figure at 0x7f8c2e3f1e80>"
      ]
     },
     "metadata": {},
     "output_type": "display_data"
    }
   ],
   "source": [
    "plot_results_for(ArrayMethod(MERSON_Y, MERSON_X, 4).method);"
   ]
  },
  {
   "cell_type": "code",
   "execution_count": 155,
   "metadata": {
    "collapsed": false
   },
   "outputs": [
    {
     "name": "stdout",
     "output_type": "stream",
     "text": [
      "|\n"
     ]
    },
    {
     "name": "stderr",
     "output_type": "stream",
     "text": [
      "/usr/lib/python3.5/site-packages/ipykernel/__main__.py:13: VisibleDeprecationWarning: using a non-integer number instead of an integer will result in an error in the future\n"
     ]
    },
    {
     "data": {
      "image/png": "[encoded data removed]",
      "text/plain": [
       "<matplotlib.figure.Figure at 0x7f8c2e1fbac8>"
      ]
     },
     "metadata": {},
     "output_type": "display_data"
    }
   ],
   "source": [
    "plot_results_for(ArrayMethod(VERNER_Y, VERNER_X, 5).method);"
   ]
  },
  {
   "cell_type": "code",
   "execution_count": 108,
   "metadata": {
    "collapsed": false
   },
   "outputs": [
    {
     "name": "stderr",
     "output_type": "stream",
     "text": [
      "/usr/lib/python3.5/site-packages/ipykernel/__main__.py:13: VisibleDeprecationWarning: using a non-integer number instead of an integer will result in an error in the future\n"
     ]
    },
    {
     "data": {
      "text/plain": [
       "[<matplotlib.lines.Line2D at 0x7f8c2e59a6a0>]"
      ]
     },
     "execution_count": 108,
     "metadata": {},
     "output_type": "execute_result"
    },
    {
     "data": {
      "image/png": "[encoded data removed]",
      "text/plain": [
       "<matplotlib.figure.Figure at 0x7f8c3470f978>"
      ]
     },
     "metadata": {},
     "output_type": "display_data"
    }
   ],
   "source": [
    "plot(x, np.abs((y[1] - F(x))/F(x)))"
   ]
  },
  {
   "cell_type": "code",
   "execution_count": null,
   "metadata": {
    "collapsed": true
   },
   "outputs": [],
   "source": []
  }
 ],
 "metadata": {
  "kernelspec": {
   "display_name": "Python 3",
   "language": "python",
   "name": "python3"
  },
  "language_info": {
   "codemirror_mode": {
    "name": "ipython",
    "version": 3
   },
   "file_extension": ".py",
   "mimetype": "text/x-python",
   "name": "python",
   "nbconvert_exporter": "python",
   "pygments_lexer": "ipython3",
   "version": "3.5.1"
  }
 },
 "nbformat": 4,
 "nbformat_minor": 0
}
