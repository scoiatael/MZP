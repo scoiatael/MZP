{
 "cells": [
  {
   "cell_type": "code",
   "execution_count": 1,
   "metadata": {
    "collapsed": false,
    "scrolled": false
   },
   "outputs": [
    {
     "name": "stdout",
     "output_type": "stream",
     "text": [
      "Populating the interactive namespace from numpy and matplotlib\n"
     ]
    }
   ],
   "source": [
    "import numpy as np\n",
    "from IPython.display import *\n",
    "%pylab inline\n",
    "import matplotlib.pyplot as plt\n",
    "import time"
   ]
  },
  {
   "cell_type": "code",
   "execution_count": 2,
   "metadata": {
    "collapsed": true
   },
   "outputs": [],
   "source": [
    "E_rel = 1e-4\n",
    "E_abs = 1e-4"
   ]
  },
  {
   "cell_type": "code",
   "execution_count": 3,
   "metadata": {
    "collapsed": true
   },
   "outputs": [],
   "source": [
    "def eps(y_n, y_n1 = 0):\n",
    "    return E_abs + E_rel*(np.abs(y_n) + np.abs(y_n1))/2."
   ]
  },
  {
   "cell_type": "code",
   "execution_count": 4,
   "metadata": {
    "collapsed": true
   },
   "outputs": [],
   "source": [
    "def err(y_n, y_n1, yd_n1):\n",
    "    d = y_n.size\n",
    "    v = (y_n1 - yd_n1)/eps(y_n, y_n1)\n",
    "    return np.sqrt((v*v).sum() / d)"
   ]
  },
  {
   "cell_type": "code",
   "execution_count": 5,
   "metadata": {
    "collapsed": true
   },
   "outputs": [],
   "source": [
    "factor_min = 0.1\n",
    "factor_max = 5\n",
    "factor = 0.9\n",
    "h_min = 1e-4"
   ]
  },
  {
   "cell_type": "code",
   "execution_count": 6,
   "metadata": {
    "collapsed": true
   },
   "outputs": [],
   "source": [
    "def h_opt(q, err_h, h):\n",
    "    return max(h_min,\n",
    "               h*min(factor_max,\n",
    "                     max(factor_min,\n",
    "                         factor*np.power(1./err_h, 1./(q+1)))))"
   ]
  },
  {
   "cell_type": "code",
   "execution_count": 7,
   "metadata": {
    "collapsed": true
   },
   "outputs": [],
   "source": [
    "def norm(y0, y):\n",
    "    eps_0 = E_abs + np.abs(y0)*E_rel\n",
    "    v = y/eps_0\n",
    "    d = y.size\n",
    "    return np.sqrt((v*v).sum()/d)"
   ]
  },
  {
   "cell_type": "code",
   "execution_count": 8,
   "metadata": {
    "collapsed": true
   },
   "outputs": [],
   "source": [
    "def starting_h(p, f, x0, y0):\n",
    "    d0 = norm(y0, y0)\n",
    "    v0 = f(x0, y0)\n",
    "    d1 = norm(y0, v0)\n",
    "    h0 = 0.01 * d0/d1\n",
    "    y1 = y0 + h0*v0\n",
    "    v1 = f(x0+h0, y1)\n",
    "    d2 = norm(y0, v1 - v0) / h0\n",
    "    d_max = max(d1,d2)\n",
    "    h1 = np.power(0.01/d_max, 1/(p+1))\n",
    "    if d_max < 1e-15:\n",
    "        h1 = max(1e-6, h0 * 1e-3)\n",
    "    return min(100*h0, h1)"
   ]
  },
  {
   "cell_type": "code",
   "execution_count": 9,
   "metadata": {
    "collapsed": false
   },
   "outputs": [],
   "source": [
    "class ArrayMethod:\n",
    "    def __init__(self, Arr_Y, Arr_X, p, constant_h = False):\n",
    "        width = len(Arr_X[-1])\n",
    "        self.Arr_X = np.array([x + [0] * (width - len(x)) for x in Arr_X], \n",
    "                              dtype=float)\n",
    "        self.Arr_Y = np.array(Arr_Y, dtype=float)\n",
    "        self.p = p\n",
    "        self.constant_h = constant_h\n",
    "        \n",
    "    def method(self, g, G0, X0, XF, max_iter = 1e6):\n",
    "        h = self.constant_h\n",
    "        if self.constant_h == False:\n",
    "            h = starting_h(self.p, g, X0, G0)\n",
    "        Ys = [G0]\n",
    "        Xs = [X0, X0+h]\n",
    "        Err = []\n",
    "        while Xs[-1] < XF and max_iter > 0:\n",
    "            max_iter -= 1\n",
    "            if max_iter % 1e4 == 0:\n",
    "                print('.', end=\"\",flush=True)\n",
    "                \n",
    "            K = np.zeros(self.Arr_X[-1].shape + (2,))\n",
    "            K[0] = h*g(Xs[-1], Ys[-1])\n",
    "            for ind in range(len(self.Arr_Y)):\n",
    "                h_param = self.Arr_Y[ind]\n",
    "                y_params = self.Arr_X[ind]\n",
    "                y = (K.T * y_params).sum(1) + Ys[-1]\n",
    "                k = h*g(Xs[-1] + h*h_param, y)\n",
    "                K[ind+1] = k\n",
    "            y_n = Ys[-1]\n",
    "            y_n1 = (y_n + \\\n",
    "                (self.Arr_X[-2] * K.T).sum(1))\n",
    "            yd = y_n1 + \\\n",
    "                (self.Arr_X[-1] * K.T).sum(1)\n",
    "                \n",
    "            eq = err(y_n, y_n1, yd)\n",
    "            if np.all(np.abs(y_n1 - yd) < eps(y_n, y_n1)):\n",
    "                Err.append(e)\n",
    "                Ys.append(y_n1)\n",
    "                Xs.append(Xs[-1] + h)\n",
    "            else:   \n",
    "                h = self.constant_h\n",
    "                if self.constant_h == False:\n",
    "                    h = h_opt(self.p, e, h)\n",
    "        print('|')\n",
    "        return [Xs[:-1], array(Ys).T, Err]"
   ]
  },
  {
   "cell_type": "code",
   "execution_count": 10,
   "metadata": {
    "collapsed": true
   },
   "outputs": [],
   "source": [
    "MERSON_Y = [1/3., 1/3., 1/2., 1.]\n",
    "MERSON_X = [\n",
    "    [1/3.],\n",
    "    [1/6., 1/6.],\n",
    "    [1/8, 0., 3/8.],\n",
    "    [1/2., 0., -3/2., 2.],\n",
    "    [1/6., 0., 0., 2/3., 1/6.],\n",
    "    [1/10., 0., 3/10., 2/5., 1/5.]\n",
    "]"
   ]
  },
  {
   "cell_type": "code",
   "execution_count": 11,
   "metadata": {
    "collapsed": true
   },
   "outputs": [],
   "source": [
    "R38_Y = [1/3., 2/3., 1]\n",
    "R38_X = [\n",
    "    [1/3.],\n",
    "    [-1/3., 1.],\n",
    "    [1., -1., 1.],\n",
    "    [1/8., 3/8., 3/8., 1/8.],\n",
    "    [1/12., 1/2., 1/4., 0., 1/6.]\n",
    "]"
   ]
  },
  {
   "cell_type": "code",
   "execution_count": 12,
   "metadata": {
    "collapsed": true
   },
   "outputs": [],
   "source": [
    "VERNER_Y = [1/6., 4/15., 2/3., 5/6., 1., 1/15., 1.]\n",
    "VERNER_X = [\n",
    "    [1/6.],\n",
    "    [4/75., 16/75.],\n",
    "    [5/6., -8/3., 5/2.],\n",
    "    [-165/64., 55/6., -425/64., 85/96.],\n",
    "    [12/5., -8., 4015/612., -11/36., 88/255.],\n",
    "    [-8263/15000., 124/75., -643/680., -81/250., 2484/10625., 0],\n",
    "    [3501/1720., -300/43., 297275/52632., -319/2322., 24068/84065., 0., 3850/26703.],\n",
    "    [3/40., 0., 875/2244., 23/72., 264/1955., 0., 125/11792., 43/616.],\n",
    "    [13/160., 0., 2375/5984., 5/16., 12/85., 3/44., 0., 0.]\n",
    "]"
   ]
  },
  {
   "cell_type": "code",
   "execution_count": 13,
   "metadata": {
    "collapsed": true
   },
   "outputs": [],
   "source": [
    "X0 = 0\n",
    "F0 = array([1, 0])\n",
    "XF = 10\n",
    "\n",
    "X\n",
    "\n",
    "def f(t, Ys):\n",
    "    y, v = Ys\n",
    "    return np.array([-v*g/l, y])\n",
    "\n",
    "def F(y, F0 = F0):\n",
    "    return F0[0]*np.cos(np.array(y)*np.power(g/l, 1/2))"
   ]
  },
  {
   "cell_type": "code",
   "execution_count": 14,
   "metadata": {
    "collapsed": true
   },
   "outputs": [],
   "source": [
    "figsize(12, 12)\n",
    "def plot_results_for(method):\n",
    "    x, ys, errs = method(f, F0, X0, XF)\n",
    "    y = ys[0]\n",
    "    TS = [F(i) for i in x]\n",
    "    err = np.log10(np.absolute(np.power(y - TS, 2)/TS))\n",
    "    _, plots = plt.subplots(4, sharex=False)\n",
    "    p1, p2, p3, p4 = plots\n",
    "    p1.plot(x, err)\n",
    "    h = np.log10(array(x[1:]) - x[:-1])\n",
    "    p2.plot(x[1:], h)\n",
    "    p3.plot(x, y, label='calculated')\n",
    "    p3.plot(x, TS, label='exact')\n",
    "    p3.legend()\n",
    "    p4.plot(range(len(errs)), errs)\n",
    "    return x, y"
   ]
  },
  {
   "cell_type": "code",
   "execution_count": 15,
   "metadata": {
    "collapsed": true
   },
   "outputs": [],
   "source": [
    "def simple_euler(g, G0, X0, XF):\n",
    "    Xs = np.linspace(X0, XF, 1e4)\n",
    "    h = Xs[1] - X0\n",
    "    N = len(Xs)\n",
    "    Ys = np.zeros(Xs.shape + (2,))\n",
    "    Ys[0] = G0\n",
    "    for i in range(N-1):\n",
    "        Ys[i+1] = Ys[i] + h*g(Xs[i], Ys[i])\n",
    "    return [Xs, Ys.T, []]"
   ]
  },
  {
   "cell_type": "code",
   "execution_count": 16,
   "metadata": {
    "collapsed": true
   },
   "outputs": [],
   "source": [
    "x, y, errs = simple_euler(f, F0, X0, XF)"
   ]
  },
  {
   "cell_type": "code",
   "execution_count": 17,
   "metadata": {
    "collapsed": false
   },
   "outputs": [
    {
     "name": "stderr",
     "output_type": "stream",
     "text": [
      "/usr/lib/python3.5/site-packages/ipykernel/__main__.py:6: RuntimeWarning: divide by zero encountered in log10\n"
     ]
    },
    {
     "data": {
      "image/png": "[encoded data removed]",
      "text/plain": [
       "<matplotlib.figure.Figure at 0x7f076a88de80>"
      ]
     },
     "metadata": {},
     "output_type": "display_data"
    }
   ],
   "source": [
    "plot_results_for(simple_euler);"
   ]
  },
  {
   "cell_type": "code",
   "execution_count": null,
   "metadata": {
    "collapsed": false
   },
   "outputs": [],
   "source": [
    "x, y, errs = ArrayMethod(R38_Y, R38_X, 3, constant_h = 1e-4).method(f, F0, X0, XF)"
   ]
  },
  {
   "cell_type": "code",
   "execution_count": null,
   "metadata": {
    "collapsed": false
   },
   "outputs": [],
   "source": [
    "plot(x, F(x)),\n",
    "xs = np.linspace(X0, XF)\n",
    "plot(xs, F(xs))\n",
    "plot(x, [F(i) for i in x])\n",
    "plot(x, y[0])"
   ]
  },
  {
   "cell_type": "code",
   "execution_count": 19,
   "metadata": {
    "collapsed": false
   },
   "outputs": [
    {
     "name": "stdout",
     "output_type": "stream",
     "text": [
      "................."
     ]
    },
    {
     "ename": "KeyboardInterrupt",
     "evalue": "",
     "output_type": "error",
     "traceback": [
      "\u001b[1;31m---------------------------------------------------------------------------\u001b[0m",
      "\u001b[1;31mKeyboardInterrupt\u001b[0m                         Traceback (most recent call last)",
      "\u001b[1;32m<ipython-input-19-901c81d1e4c3>\u001b[0m in \u001b[0;36m<module>\u001b[1;34m()\u001b[0m\n\u001b[1;32m----> 1\u001b[1;33m \u001b[0mplot_results_for\u001b[0m\u001b[1;33m(\u001b[0m\u001b[0mArrayMethod\u001b[0m\u001b[1;33m(\u001b[0m\u001b[0mR38_Y\u001b[0m\u001b[1;33m,\u001b[0m \u001b[0mR38_X\u001b[0m\u001b[1;33m,\u001b[0m \u001b[1;36m3\u001b[0m\u001b[1;33m,\u001b[0m \u001b[0mconstant_h\u001b[0m \u001b[1;33m=\u001b[0m \u001b[1;36m1e-2\u001b[0m\u001b[1;33m)\u001b[0m\u001b[1;33m.\u001b[0m\u001b[0mmethod\u001b[0m\u001b[1;33m)\u001b[0m\u001b[1;33m;\u001b[0m\u001b[1;33m\u001b[0m\u001b[0m\n\u001b[0m",
      "\u001b[1;32m<ipython-input-14-ecd4d6029a29>\u001b[0m in \u001b[0;36mplot_results_for\u001b[1;34m(method)\u001b[0m\n\u001b[0;32m      1\u001b[0m \u001b[0mfigsize\u001b[0m\u001b[1;33m(\u001b[0m\u001b[1;36m12\u001b[0m\u001b[1;33m,\u001b[0m \u001b[1;36m12\u001b[0m\u001b[1;33m)\u001b[0m\u001b[1;33m\u001b[0m\u001b[0m\n\u001b[0;32m      2\u001b[0m \u001b[1;32mdef\u001b[0m \u001b[0mplot_results_for\u001b[0m\u001b[1;33m(\u001b[0m\u001b[0mmethod\u001b[0m\u001b[1;33m)\u001b[0m\u001b[1;33m:\u001b[0m\u001b[1;33m\u001b[0m\u001b[0m\n\u001b[1;32m----> 3\u001b[1;33m     \u001b[0mx\u001b[0m\u001b[1;33m,\u001b[0m \u001b[0mys\u001b[0m\u001b[1;33m,\u001b[0m \u001b[0merrs\u001b[0m \u001b[1;33m=\u001b[0m \u001b[0mmethod\u001b[0m\u001b[1;33m(\u001b[0m\u001b[0mf\u001b[0m\u001b[1;33m,\u001b[0m \u001b[0mF0\u001b[0m\u001b[1;33m,\u001b[0m \u001b[0mX0\u001b[0m\u001b[1;33m,\u001b[0m \u001b[0mXF\u001b[0m\u001b[1;33m)\u001b[0m\u001b[1;33m\u001b[0m\u001b[0m\n\u001b[0m\u001b[0;32m      4\u001b[0m     \u001b[0my\u001b[0m \u001b[1;33m=\u001b[0m \u001b[0mys\u001b[0m\u001b[1;33m[\u001b[0m\u001b[1;36m0\u001b[0m\u001b[1;33m]\u001b[0m\u001b[1;33m\u001b[0m\u001b[0m\n\u001b[0;32m      5\u001b[0m     \u001b[0mTS\u001b[0m \u001b[1;33m=\u001b[0m \u001b[1;33m[\u001b[0m\u001b[0mF\u001b[0m\u001b[1;33m(\u001b[0m\u001b[0mi\u001b[0m\u001b[1;33m)\u001b[0m \u001b[1;32mfor\u001b[0m \u001b[0mi\u001b[0m \u001b[1;32min\u001b[0m \u001b[0mx\u001b[0m\u001b[1;33m]\u001b[0m\u001b[1;33m\u001b[0m\u001b[0m\n",
      "\u001b[1;32m<ipython-input-9-e4ec73511620>\u001b[0m in \u001b[0;36mmethod\u001b[1;34m(self, g, G0, X0, XF, max_iter)\u001b[0m\n\u001b[0;32m     21\u001b[0m \u001b[1;33m\u001b[0m\u001b[0m\n\u001b[0;32m     22\u001b[0m             \u001b[0mK\u001b[0m \u001b[1;33m=\u001b[0m \u001b[0mnp\u001b[0m\u001b[1;33m.\u001b[0m\u001b[0mzeros\u001b[0m\u001b[1;33m(\u001b[0m\u001b[0mself\u001b[0m\u001b[1;33m.\u001b[0m\u001b[0mArr_X\u001b[0m\u001b[1;33m[\u001b[0m\u001b[1;33m-\u001b[0m\u001b[1;36m1\u001b[0m\u001b[1;33m]\u001b[0m\u001b[1;33m.\u001b[0m\u001b[0mshape\u001b[0m \u001b[1;33m+\u001b[0m \u001b[1;33m(\u001b[0m\u001b[1;36m2\u001b[0m\u001b[1;33m,\u001b[0m\u001b[1;33m)\u001b[0m\u001b[1;33m)\u001b[0m\u001b[1;33m\u001b[0m\u001b[0m\n\u001b[1;32m---> 23\u001b[1;33m             \u001b[0mK\u001b[0m\u001b[1;33m[\u001b[0m\u001b[1;36m0\u001b[0m\u001b[1;33m]\u001b[0m \u001b[1;33m=\u001b[0m \u001b[0mh\u001b[0m\u001b[1;33m*\u001b[0m\u001b[0mg\u001b[0m\u001b[1;33m(\u001b[0m\u001b[0mXs\u001b[0m\u001b[1;33m[\u001b[0m\u001b[1;33m-\u001b[0m\u001b[1;36m1\u001b[0m\u001b[1;33m]\u001b[0m\u001b[1;33m,\u001b[0m \u001b[0mYs\u001b[0m\u001b[1;33m[\u001b[0m\u001b[1;33m-\u001b[0m\u001b[1;36m1\u001b[0m\u001b[1;33m]\u001b[0m\u001b[1;33m)\u001b[0m\u001b[1;33m\u001b[0m\u001b[0m\n\u001b[0m\u001b[0;32m     24\u001b[0m             \u001b[1;32mfor\u001b[0m \u001b[0mind\u001b[0m \u001b[1;32min\u001b[0m \u001b[0mrange\u001b[0m\u001b[1;33m(\u001b[0m\u001b[0mlen\u001b[0m\u001b[1;33m(\u001b[0m\u001b[0mself\u001b[0m\u001b[1;33m.\u001b[0m\u001b[0mArr_Y\u001b[0m\u001b[1;33m)\u001b[0m\u001b[1;33m)\u001b[0m\u001b[1;33m:\u001b[0m\u001b[1;33m\u001b[0m\u001b[0m\n\u001b[0;32m     25\u001b[0m                 \u001b[0mh_param\u001b[0m \u001b[1;33m=\u001b[0m \u001b[0mself\u001b[0m\u001b[1;33m.\u001b[0m\u001b[0mArr_Y\u001b[0m\u001b[1;33m[\u001b[0m\u001b[0mind\u001b[0m\u001b[1;33m]\u001b[0m\u001b[1;33m\u001b[0m\u001b[0m\n",
      "\u001b[1;32m<ipython-input-13-612366ee9c0f>\u001b[0m in \u001b[0;36mf\u001b[1;34m(t, Ys)\u001b[0m\n\u001b[0;32m      8\u001b[0m \u001b[1;32mdef\u001b[0m \u001b[0mf\u001b[0m\u001b[1;33m(\u001b[0m\u001b[0mt\u001b[0m\u001b[1;33m,\u001b[0m \u001b[0mYs\u001b[0m\u001b[1;33m)\u001b[0m\u001b[1;33m:\u001b[0m\u001b[1;33m\u001b[0m\u001b[0m\n\u001b[0;32m      9\u001b[0m     \u001b[0my\u001b[0m\u001b[1;33m,\u001b[0m \u001b[0mv\u001b[0m \u001b[1;33m=\u001b[0m \u001b[0mYs\u001b[0m\u001b[1;33m\u001b[0m\u001b[0m\n\u001b[1;32m---> 10\u001b[1;33m     \u001b[1;32mreturn\u001b[0m \u001b[0mnp\u001b[0m\u001b[1;33m.\u001b[0m\u001b[0marray\u001b[0m\u001b[1;33m(\u001b[0m\u001b[1;33m[\u001b[0m\u001b[1;33m-\u001b[0m\u001b[0mv\u001b[0m\u001b[1;33m*\u001b[0m\u001b[0mg\u001b[0m\u001b[1;33m/\u001b[0m\u001b[0ml\u001b[0m\u001b[1;33m,\u001b[0m \u001b[0my\u001b[0m\u001b[1;33m]\u001b[0m\u001b[1;33m)\u001b[0m\u001b[1;33m\u001b[0m\u001b[0m\n\u001b[0m\u001b[0;32m     11\u001b[0m \u001b[1;33m\u001b[0m\u001b[0m\n\u001b[0;32m     12\u001b[0m \u001b[1;32mdef\u001b[0m \u001b[0mF\u001b[0m\u001b[1;33m(\u001b[0m\u001b[0my\u001b[0m\u001b[1;33m,\u001b[0m \u001b[0mF0\u001b[0m \u001b[1;33m=\u001b[0m \u001b[0mF0\u001b[0m\u001b[1;33m)\u001b[0m\u001b[1;33m:\u001b[0m\u001b[1;33m\u001b[0m\u001b[0m\n",
      "\u001b[1;31mKeyboardInterrupt\u001b[0m: "
     ]
    }
   ],
   "source": [
    "plot_results_for(ArrayMethod(R38_Y, R38_X, 3, constant_h = 1e-2).method);"
   ]
  },
  {
   "cell_type": "code",
   "execution_count": null,
   "metadata": {
    "collapsed": false
   },
   "outputs": [],
   "source": [
    "plot_results_for(ArrayMethod(MERSON_Y, MERSON_X, 4).method);"
   ]
  },
  {
   "cell_type": "code",
   "execution_count": null,
   "metadata": {
    "collapsed": false,
    "scrolled": true
   },
   "outputs": [],
   "source": [
    "plot_results_for(ArrayMethod(VERNER_Y, VERNER_X, 5).method);"
   ]
  },
  {
   "cell_type": "code",
   "execution_count": null,
   "metadata": {
    "collapsed": true
   },
   "outputs": [],
   "source": []
  }
 ],
 "metadata": {
  "kernelspec": {
   "display_name": "Python 3",
   "language": "python",
   "name": "python3"
  },
  "language_info": {
   "codemirror_mode": {
    "name": "ipython",
    "version": 3
   },
   "file_extension": ".py",
   "mimetype": "text/x-python",
   "name": "python",
   "nbconvert_exporter": "python",
   "pygments_lexer": "ipython3",
   "version": "3.5.1"
  }
 },
 "nbformat": 4,
 "nbformat_minor": 0
}
